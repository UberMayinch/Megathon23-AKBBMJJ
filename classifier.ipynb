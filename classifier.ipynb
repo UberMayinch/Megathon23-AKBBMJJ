{
 "cells": [
  {
   "cell_type": "code",
   "execution_count": 38,
   "metadata": {},
   "outputs": [],
   "source": [
    "import pandas as pd\n",
    "import numpy as np\n",
    "import tensorflow as tf\n",
    "from tensorflow import keras"
   ]
  },
  {
   "cell_type": "code",
   "execution_count": 39,
   "metadata": {},
   "outputs": [],
   "source": [
    "dataset = pd.read_csv('data.csv')"
   ]
  },
  {
   "cell_type": "code",
   "execution_count": 40,
   "metadata": {},
   "outputs": [
    {
     "name": "stdout",
     "output_type": "stream",
     "text": [
      "(9999, 5)\n"
     ]
    }
   ],
   "source": [
    "#Shuffle the dataset\n",
    "dataset = dataset.sample(frac=1)\n",
    "\n",
    "# print(dataset.head())\n",
    "# print(dataset.tail())\n",
    "features = dataset.iloc[:, :5].values  # Assuming 5 input parameters\n",
    "labels = dataset.iloc[:, 5].values  # Assuming a single label column\n",
    "\n",
    "print(features.shape)\n"
   ]
  },
  {
   "cell_type": "code",
   "execution_count": 41,
   "metadata": {},
   "outputs": [
    {
     "name": "stdout",
     "output_type": "stream",
     "text": [
      "(8000, 5)\n",
      "(8000,)\n"
     ]
    }
   ],
   "source": [
    "model = keras.Sequential([\n",
    "    keras.layers.Dense(64, activation='relu', input_shape=(5,)),\n",
    "    keras.layers.Dense(64, activation='relu'),\n",
    "    keras.layers.Dense(32, activation='relu'),\n",
    "    keras.layers.Dense(3, activation='softmax')  # Three output labels\n",
    "])\n",
    "\n",
    "train_features = features[:8000]\n",
    "train_labels = labels[:8000]\n",
    "test_features = features[8000:]\n",
    "test_labels = labels[8000:]\n",
    "\n",
    "print(train_features.shape)\n",
    "print(train_labels.shape)\n"
   ]
  },
  {
   "cell_type": "code",
   "execution_count": 42,
   "metadata": {},
   "outputs": [
    {
     "name": "stdout",
     "output_type": "stream",
     "text": [
      "Model: \"sequential_10\"\n",
      "_________________________________________________________________\n",
      " Layer (type)                Output Shape              Param #   \n",
      "=================================================================\n",
      " dense_36 (Dense)            (None, 64)                384       \n",
      "                                                                 \n",
      " dense_37 (Dense)            (None, 64)                4160      \n",
      "                                                                 \n",
      " dense_38 (Dense)            (None, 32)                2080      \n",
      "                                                                 \n",
      " dense_39 (Dense)            (None, 3)                 99        \n",
      "                                                                 \n",
      "=================================================================\n",
      "Total params: 6723 (26.26 KB)\n",
      "Trainable params: 6723 (26.26 KB)\n",
      "Non-trainable params: 0 (0.00 Byte)\n",
      "_________________________________________________________________\n",
      "None\n",
      "250/250 [==============================] - 2s 5ms/step - loss: 0.3797 - accuracy: 0.8741\n",
      "63/63 [==============================] - 0s 2ms/step - loss: 0.2438 - accuracy: 0.8989\n",
      "Test loss: 0.2438386231660843, Test accuracy: 0.8989495038986206\n"
     ]
    }
   ],
   "source": [
    "model.compile(optimizer='adam', loss='sparse_categorical_crossentropy', metrics=['accuracy'])\n",
    "\n",
    "print(model.summary())\n",
    "model.fit(train_features,train_labels)\n",
    "\n",
    "# Optionally evaluate the model on test data\n",
    "# test_data = ...  # Load your test data\n",
    "# test_labels = ...  # Load your test labels\n",
    "# test_labels_one_hot = keras.utils.to_categorical(test_labels, num_classes=num_classes)\n",
    "loss, accuracy = model.evaluate(test_features, test_labels)\n",
    "print(f'Test loss: {loss}, Test accuracy: {accuracy}')\n"
   ]
  }
 ],
 "metadata": {
  "kernelspec": {
   "display_name": "myenv",
   "language": "python",
   "name": "python3"
  },
  "language_info": {
   "codemirror_mode": {
    "name": "ipython",
    "version": 3
   },
   "file_extension": ".py",
   "mimetype": "text/x-python",
   "name": "python",
   "nbconvert_exporter": "python",
   "pygments_lexer": "ipython3",
   "version": "3.11.5"
  }
 },
 "nbformat": 4,
 "nbformat_minor": 2
}
